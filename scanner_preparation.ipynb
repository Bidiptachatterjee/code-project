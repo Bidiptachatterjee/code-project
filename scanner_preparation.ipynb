{
  "nbformat": 4,
  "nbformat_minor": 0,
  "metadata": {
    "colab": {
      "provenance": [],
      "authorship_tag": "ABX9TyN5lcVOHVti2mwyGxAl+Y5J",
      "include_colab_link": true
    },
    "kernelspec": {
      "name": "python3",
      "display_name": "Python 3"
    },
    "language_info": {
      "name": "python"
    }
  },
  "cells": [
    {
      "cell_type": "markdown",
      "metadata": {
        "id": "view-in-github",
        "colab_type": "text"
      },
      "source": [
        "<a href=\"https://colab.research.google.com/github/Bidiptachatterjee/code-project/blob/main/scanner_preparation.ipynb\" target=\"_parent\"><img src=\"https://colab.research.google.com/assets/colab-badge.svg\" alt=\"Open In Colab\"/></a>"
      ]
    },
    {
      "cell_type": "code",
      "execution_count": null,
      "metadata": {
        "colab": {
          "base_uri": "https://localhost:8080/",
          "height": 1000
        },
        "id": "tsK5rgwUVDX-",
        "outputId": "7bbc9306-4876-4183-dd5e-b8a5c45e0991"
      },
      "outputs": [
        {
          "output_type": "stream",
          "name": "stdout",
          "text": [
            "Enter your UPI ID =8436627992@ypl\n",
            "QR Code for PhonePe:\n"
          ]
        },
        {
          "output_type": "display_data",
          "data": {
            "image/png": "[encoded data removed]",
            "text/plain": [
              "<IPython.core.display.Image object>"
            ]
          },
          "metadata": {}
        },
        {
          "output_type": "stream",
          "name": "stdout",
          "text": [
            "\n",
            "QR Code for Paytm:\n"
          ]
        },
        {
          "output_type": "display_data",
          "data": {
            "image/png": "[encoded data removed]",
            "text/plain": [
              "<IPython.core.display.Image object>"
            ]
          },
          "metadata": {}
        },
        {
          "output_type": "stream",
          "name": "stdout",
          "text": [
            "\n",
            "QR Code for Google Pay:\n"
          ]
        },
        {
          "output_type": "display_data",
          "data": {
            "image/png": "[encoded data removed]",
            "text/plain": [
              "<IPython.core.display.Image object>"
            ]
          },
          "metadata": {}
        }
      ],
      "source": [
        "#scanner preparation\n",
        "import qrcode\n",
        "from IPython.display import display, Image\n",
        "\n",
        "#Taking UPI ID as a input\n",
        "upi_id=input(\"Enter your UPI ID =\")\n",
        "# Set your UPI ID directly here for Colab execution\n",
        "#upi_id = \"YOUR_UPI_ID_HERE\" # <--- REPLACE WITH YOUR UPI ID\n",
        "\n",
        "# Defining the payment URL based on the UPI ID and the payment app\n",
        "# You can modify these URLs based on the payment apps you want to support\n",
        "phonepe_url = f\"upi:pay?pa={upi_id}&pn=Recipient%20Name&mc=1234\"\n",
        "paytm_url = f\"upi:pay?pa={upi_id}&pn=Recipient%20Name&mc=1234\"\n",
        "Google_pay_url = f\"upi:pay?pa={upi_id}&pn=Recipient%20Name&mc=1234\"\n",
        "\n",
        "# Create QR code for each payment app\n",
        "phonepe_qr = qrcode.make(phonepe_url)\n",
        "paytm_qr = qrcode.make(paytm_url)\n",
        "Google_pay_qr = qrcode.make(Google_pay_url)\n",
        "\n",
        "# Save the qr code to image file (optional)\n",
        "phonepe_qr.save('phonepe_qr.png')\n",
        "paytm_qr.save('paytm_qr.png')\n",
        "Google_pay_qr.save('Google_pay_qr.png')\n",
        "\n",
        "# Display the qr codes in the notebook\n",
        "print(\"QR Code for PhonePe:\")\n",
        "display(Image('phonepe_qr.png'))\n",
        "\n",
        "print(\"\\nQR Code for Paytm:\")\n",
        "display(Image('paytm_qr.png'))\n",
        "\n",
        "print(\"\\nQR Code for Google Pay:\")\n",
        "display(Image('Google_pay_qr.png'))"
      ]
    }
  ]
}